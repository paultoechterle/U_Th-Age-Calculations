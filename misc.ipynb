{
 "cells": [
  {
   "cell_type": "code",
   "execution_count": 1,
   "metadata": {},
   "outputs": [],
   "source": [
    "import pandas as pd\n",
    "import matplotlib.pyplot as plt\n",
    "import numpy as np"
   ]
  },
  {
   "cell_type": "markdown",
   "metadata": {},
   "source": [
    "## decay constants:"
   ]
  },
  {
   "cell_type": "code",
   "execution_count": 2,
   "metadata": {},
   "outputs": [],
   "source": [
    "lambda230 = 0.0000091577*1.0014\n",
    "lambda232 = 0.000000000049475\n",
    "lambda234 = 0.0000028263*0.9985\n",
    "lambda238 = 0.000000000155125"
   ]
  },
  {
   "cell_type": "markdown",
   "metadata": {},
   "source": [
    "some abbreviations for the variable nomenclature in this script:\n",
    "\n",
    "    conc ... concentration\n",
    "    n ... number of X (typically rows in measurement)\n",
    "    _e ... absolute error\n",
    "    _re ... relative error\n",
    "    cr ... counting rate\n",
    "    ce ... counting error\n",
    "    \n",
    "    wt ... weighted average\n",
    "    csum ... sum of counts of a given isotope\n",
    "    spk ... spike\n",
    "    amt ... amount of X in sample\n",
    "    mr ... molar ratio /atomic ratio\n",
    "    ar ... activity ratio\n",
    "\n",
    "## sample derived input variables for the age calculation\n",
    "\n",
    "sample, spike and chemistry blanks info"
   ]
  },
  {
   "cell_type": "code",
   "execution_count": 3,
   "metadata": {},
   "outputs": [],
   "source": [
    "class Spike:\n",
    "    \n",
    "    def __init__(self, weight):\n",
    "        \n",
    "        self.weight = weight # [g]\n",
    "        self.weight_e = 0.00001\n",
    "        \n",
    "        self.U233 = 0.78764 # [pmol/g]\n",
    "        self.U233_e = 0.0002\n",
    "\n",
    "        self.Th229 = 0.21686 # [pmol/g]\n",
    "        self.Th229_e = 0.0001\n",
    "        \n",
    "        # spike ratios U\n",
    "        self.U238_U233 = 0.016802154\n",
    "        self.U235_U233 = 0.105321392\n",
    "        self.U234_U233 = 0.003195127\n",
    "        \n",
    "        # spike ratios Th\n",
    "        self.Th230_Th229 = 0.0000625\n",
    "        \n",
    "        self.Th232_Th229 = 0.00065\n",
    "        self.Th232_Th229_e = 0.00005"
   ]
  },
  {
   "cell_type": "code",
   "execution_count": 4,
   "metadata": {},
   "outputs": [],
   "source": [
    "class Sample:\n",
    "    \n",
    "    '''\n",
    "    the init method holds default values for the chemistry blank\n",
    "    at some point it might be actually useful to use the actual chemistry blank values here\n",
    "    '''\n",
    "    \n",
    "    def __init__(self,\n",
    "                 sample_weight,\n",
    "                 ch_blank_238U = 0.02,\n",
    "                 ch_blank_238U_e = 0.02,\n",
    "                 ch_blank_232Th = 0.0005,\n",
    "                 ch_blank_232Th_e = 0.0005,\n",
    "                 ch_blank_230Th = 0.0001,\n",
    "                 ch_blank_230Th_e = 0.0005):\n",
    "        \n",
    "        self.sample_weight = sample_weight # [g]\n",
    "        self.sample_weight_e = 0.00001\n",
    "\n",
    "        # chemistry blank values\n",
    "        self.ch_blank_238U = ch_blank_238U # [pmol]\n",
    "        self.ch_blank_238U_e = ch_blank_238U_e\n",
    "\n",
    "        self.ch_blank_232Th = ch_blank_232Th # [pmol]\n",
    "        self.ch_blank_232Th_e = ch_blank_232Th_e\n",
    "\n",
    "        self.ch_blank_230Th = ch_blank_230Th # [fmol]\n",
    "        self.ch_blank_230Th_e = ch_blank_230Th_e\n",
    "\n",
    "        self.Th_loaded = 0.8\n",
    "\n",
    "        self.SEM_corr = 1 # exponential for SEM correction\n",
    "        self.Th_corr = 1 # frac. correction for Th, ‰ per AMU"
   ]
  },
  {
   "cell_type": "markdown",
   "metadata": {},
   "source": [
    "## U measurements"
   ]
  },
  {
   "cell_type": "code",
   "execution_count": 5,
   "metadata": {},
   "outputs": [],
   "source": [
    "def counting_error(counts):\n",
    "    ce = 2000 / counts ** 0.5\n",
    "    return ce\n",
    "\n",
    "class U_measurement:\n",
    "    \n",
    "    def __init__(self,\n",
    "                 mean_235U_233U,\n",
    "                 mean_235U_233U_e,\n",
    "                 mean_234U_235U,\n",
    "                 mean_234U_235U_e,\n",
    "                 mean_233U,\n",
    "                 n_233,\n",
    "                 n_234U_235U,\n",
    "                 bg_233U,\n",
    "                 bg_234U,\n",
    "                 bg_235U):\n",
    "        \n",
    "        # ratio means ... this will later be the output of the standard deviation filters\n",
    "        # this is the green fields in Hai's template\n",
    "        \n",
    "        self.mean_235U_233U = mean_235U_233U\n",
    "        self.mean_235U_233U_e = mean_235U_233U_e\n",
    "        self.mean_235U_233U_re = self.mean_235U_233U_e / self.mean_235U_233U * 1000\n",
    "\n",
    "        self.mean_234U_235U = mean_234U_235U\n",
    "        self.mean_234U_235U_e = mean_234U_235U_e\n",
    "        \n",
    "        self.mean_233U = mean_233U\n",
    "        self.mean_233U_e = self.mean_233U * 0.05\n",
    "        \n",
    "        self.n_233 = n_233\n",
    "        self.n_234U_235U = n_234U_235U\n",
    "        \n",
    "        # background counts [cps]\n",
    "        # this is the yellow fields\n",
    "\n",
    "        self.bg_233U = bg_233U\n",
    "        self.bg_234U = bg_234U\n",
    "        self.bg_235U = bg_235U\n",
    "\n",
    "        # some static variables\n",
    "        \n",
    "        self.fil_blk_238U = 0.0001\n",
    "        self.fil_blk_238U_e = 0.1\n",
    "        \n",
    "        self.r_238U_235U = 137.82\n",
    "        \n",
    "        # counting times + errors\n",
    "        \n",
    "        self.ct_time_233U = 0.131 * 3\n",
    "        self.ct_time_235U = 0.131\n",
    "        self.ct_time_234U = 1.049\n",
    "        \n",
    "        self.csum_234 = 3888322 # this requires U ratios to be calculated first as an input - DO LATER\n",
    "        \n",
    "        self.ce233 = counting_error(self.mean_233U * self.n_233 * self.ct_time_233U)\n",
    "        self.ce234 = counting_error(self.csum_234)\n",
    "        self.ce235 = counting_error(self.mean_233U * self.n_233 * self.ct_time_235U * self.mean_235U_233U)\n",
    "        \n",
    "        ratios = self.mean_235U_233U * self.mean_234U_235U * self.mean_233U\n",
    "        self.wt_234U_235U = self.mean_234U_235U * (1 - self.bg_234U / ratios)\n",
    "        self.wt_234U_235U_e = self.mean_234U_235U_e\n",
    "        \n",
    "        \n",
    "    def r_234U_233U(self):\n",
    "        r = (self.wt_234U_235U * self.mean_235U_233U) ** 1 # exponent is SEM_corr from Sample class\n",
    "        return r\n",
    "    \n",
    "    def r_234U_235U(self):\n",
    "        \n",
    "        mean_2335_234 = 0.00000000001\n",
    "        r_tailcorr = self.wt_234U_235U * (1-(4/9*mean_2335_234 + 5/9*mean_2335_234))        "
   ]
  },
  {
   "cell_type": "markdown",
   "metadata": {},
   "source": [
    "## Th measurements"
   ]
  },
  {
   "cell_type": "code",
   "execution_count": 6,
   "metadata": {},
   "outputs": [],
   "source": [
    "class Th_measurement:\n",
    "    \n",
    "    def __init__(self,\n",
    "                 mean_230Th_229Th,\n",
    "                 mean_230Th_229Th_e, \n",
    "                 mean_232Th_229Th,\n",
    "                 mean_232Th_229Th_e, \n",
    "                 mean_229Th,\n",
    "                 n_229,\n",
    "                 bg_230Th):\n",
    "        \n",
    "        #ratio means ... as above, take these from filter function\n",
    "        self.mean_230Th_229Th = mean_230Th_229Th\n",
    "        self.mean_230Th_229Th_e = mean_230Th_229Th_e\n",
    "        self.mean_230Th_229Th_re = self.mean_230Th_229Th_e / self.mean_230Th_229Th * 1000\n",
    "\n",
    "        self.mean_232Th_229Th = mean_232Th_229Th\n",
    "        self.mean_232Th_229Th_e = mean_232Th_229Th_e\n",
    "        self.mean_232Th_229Th_re = mean_232Th_229Th_e / mean_232Th_229Th * 1000\n",
    "\n",
    "        self.mean_229Th = mean_229Th\n",
    "        self.n_229 = n_229\n",
    "        \n",
    "        self.bg_230Th = bg_230Th # aka darknoise(cpm); attention! cps * 60 for cpm from wash file\n",
    "        self.bg_230Th_re = 200\n",
    "        self.bg_230Th_e = self.bg_230Th * self.bg_230Th_re / 1000\n",
    "        \n",
    "        self.run_duration = 60 # [min]\n",
    "        \n",
    "        ############################################################################################\n",
    "        # abundance sensitivity\n",
    "        # @1 amu\n",
    "        self.Th_AS1 = 0.0000000001\n",
    "        self.Th_AS1_re = 250\n",
    "        self.Th_AS1_e = self.Th_AS1_re / 1000 * self.Th_AS1\n",
    "        # @2 amu\n",
    "        self.Th_AS2 = self.Th_AS1 / 2.5\n",
    "        self.Th_AS2_re = 250\n",
    "        self.Th_AS2_e = self.Th_AS2_re / 1000 * self.Th_AS2\n",
    "\n",
    "        ############################################################################################\n",
    "        # counting times\n",
    "\n",
    "        self.cr_229Th = self.mean_229Th\n",
    "        self.cr_229Th_e = 10\n",
    "\n",
    "        self.cr_230Th = self.cr_229Th * self.mean_230Th_229Th\n",
    "        self.cr_230Th_e = 10\n",
    "\n",
    "        self.cr_232Th = self.cr_229Th * self.mean_232Th_229Th\n",
    "        self.cr_232Th_e = 10\n",
    "\n",
    "        self.mv_232Th = self.cr_229Th * self.mean_232Th_229Th / 62500"
   ]
  },
  {
   "cell_type": "markdown",
   "metadata": {},
   "source": [
    "## initialize with dummy data"
   ]
  },
  {
   "cell_type": "code",
   "execution_count": 7,
   "metadata": {},
   "outputs": [],
   "source": [
    "Th_input = {'mean_230Th_229Th' : 0.035835,\n",
    "            'mean_230Th_229Th_e' : 0.0001,\n",
    "            'mean_232Th_229Th' : 0.0315347814243728,\n",
    "            'mean_232Th_229Th_e' : 0.00530355622869084,\n",
    "            'mean_229Th' : 350022,\n",
    "            'n_229' : 16,\n",
    "            'bg_230Th' : 60}\n",
    "\n",
    "U_input = {'mean_235U_233U' : 4.298,\n",
    "           'mean_235U_233U_e' : 0.00317,\n",
    "           'mean_234U_235U' : 0.008368,\n",
    "           'mean_234U_235U_e' : 0.000007,\n",
    "           'mean_233U' : 103277,\n",
    "           'n_233' : 998,\n",
    "           'n_234U_235U' : 869,\n",
    "           'bg_233U' : 10,\n",
    "           'bg_234U' : 0.1,\n",
    "           'bg_235U' : 160}"
   ]
  },
  {
   "cell_type": "code",
   "execution_count": 8,
   "metadata": {},
   "outputs": [],
   "source": [
    "Spk = Spike(0.5)\n",
    "smpl = Sample(0.0521)\n",
    "U = U_measurement(**U_input)\n",
    "Th = Th_measurement(**Th_input)"
   ]
  },
  {
   "cell_type": "markdown",
   "metadata": {},
   "source": [
    "## U/Th calculations"
   ]
  },
  {
   "cell_type": "code",
   "execution_count": 10,
   "metadata": {},
   "outputs": [],
   "source": [
    "# ratios from measurements\n",
    "\n",
    "def activity_ratio(mr, dc1, dc2):\n",
    "    return mr * dc1 / dc2\n",
    "\n",
    "def molar_ratio(ar, dc1, dc2):\n",
    "    return ar * dc2 / dc1\n",
    "\n",
    "mr_232Th_238U = 0.0000125\n",
    "mr_230Th_238U = 0.0000170\n",
    "mr_230Th_234U = 0.3004076\n",
    "\n",
    "ar_232Th_238U = activity_ratio(mr_232Th_238U, lambda232, lambda238)\n",
    "ar_230Th_238U = activity_ratio(mr_230Th_238U, lambda230, lambda238)\n",
    "ar_230Th_234U = activity_ratio(mr_230Th_234U, lambda230, lambda234)"
   ]
  },
  {
   "cell_type": "code",
   "execution_count": 13,
   "metadata": {},
   "outputs": [
    {
     "data": {
      "text/plain": [
       "4237130.63299525"
      ]
     },
     "execution_count": 13,
     "metadata": {},
     "output_type": "execute_result"
    }
   ],
   "source": [
    "ar_230Th_234U = 0.387168317640528\n",
    "ar_234U_238U = 2.12389700300915\n",
    "ar_232Th_238Th = 0.0359724159166239\n",
    "ar_230Th_232Th = 22.8593384276089\n",
    "\n",
    "molar_ratio(ar_230Th_232Th,lambda232, lambda230)"
   ]
  }
 ],
 "metadata": {
  "kernelspec": {
   "display_name": "Python 3",
   "language": "python",
   "name": "python3"
  },
  "language_info": {
   "codemirror_mode": {
    "name": "ipython",
    "version": 3
   },
   "file_extension": ".py",
   "mimetype": "text/x-python",
   "name": "python",
   "nbconvert_exporter": "python",
   "pygments_lexer": "ipython3",
   "version": "3.7.3"
  }
 },
 "nbformat": 4,
 "nbformat_minor": 4
}
